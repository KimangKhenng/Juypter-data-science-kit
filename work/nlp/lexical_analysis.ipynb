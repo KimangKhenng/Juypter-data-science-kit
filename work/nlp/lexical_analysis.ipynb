{
 "cells": [
  {
   "cell_type": "code",
   "execution_count": 8,
   "id": "f07aea7d-11ec-433b-bf73-accde7deff78",
   "metadata": {},
   "outputs": [
    {
     "name": "stdout",
     "output_type": "stream",
     "text": [
      "Requirement already satisfied: nltk in /opt/conda/lib/python3.11/site-packages (3.8.1)\n",
      "Requirement already satisfied: click in /opt/conda/lib/python3.11/site-packages (from nltk) (8.1.7)\n",
      "Requirement already satisfied: joblib in /opt/conda/lib/python3.11/site-packages (from nltk) (1.4.2)\n",
      "Requirement already satisfied: regex>=2021.8.3 in /opt/conda/lib/python3.11/site-packages (from nltk) (2024.5.15)\n",
      "Requirement already satisfied: tqdm in /opt/conda/lib/python3.11/site-packages (from nltk) (4.66.4)\n",
      "Note: you may need to restart the kernel to use updated packages.\n"
     ]
    }
   ],
   "source": [
    "%pip install nltk"
   ]
  },
  {
   "cell_type": "code",
   "execution_count": 3,
   "id": "8b65c910-9e7b-4b6a-8aab-0a2385a701af",
   "metadata": {},
   "outputs": [],
   "source": [
    "import nltk"
   ]
  },
  {
   "cell_type": "code",
   "execution_count": 4,
   "id": "c98b7552-8fe6-4e0c-b42b-ad03100b082f",
   "metadata": {},
   "outputs": [
    {
     "name": "stderr",
     "output_type": "stream",
     "text": [
      "[nltk_data] Downloading package wordnet to /home/jovyan/nltk_data...\n"
     ]
    },
    {
     "data": {
      "text/plain": [
       "True"
      ]
     },
     "execution_count": 4,
     "metadata": {},
     "output_type": "execute_result"
    }
   ],
   "source": [
    "nltk.download('wordnet')"
   ]
  },
  {
   "cell_type": "code",
   "execution_count": 5,
   "id": "735b5675-914c-4c5e-85ef-1ba5e3aaaf10",
   "metadata": {},
   "outputs": [],
   "source": [
    "from nltk.stem import WordNetLemmatizer"
   ]
  },
  {
   "cell_type": "code",
   "execution_count": 6,
   "id": "ad5bfb6f-427e-4691-b4fa-8a9d5972c77f",
   "metadata": {},
   "outputs": [],
   "source": [
    "wnl = WordNetLemmatizer()"
   ]
  },
  {
   "cell_type": "code",
   "execution_count": 19,
   "id": "8e95465d-96d5-440b-8819-fc59217c85d8",
   "metadata": {},
   "outputs": [
    {
     "data": {
      "text/plain": [
       "'dog'"
      ]
     },
     "execution_count": 19,
     "metadata": {},
     "output_type": "execute_result"
    }
   ],
   "source": [
    "wnl.lemmatize('dogs')"
   ]
  },
  {
   "cell_type": "code",
   "execution_count": 30,
   "id": "01677be5-b643-4735-b360-022028f57e4d",
   "metadata": {},
   "outputs": [],
   "source": [
    "sentence = 'Note: you may need to update the kernel to use updated packages.'"
   ]
  },
  {
   "cell_type": "code",
   "execution_count": 31,
   "id": "35107f20-2ed7-4e27-8fb6-6c8a20487c40",
   "metadata": {},
   "outputs": [
    {
     "name": "stderr",
     "output_type": "stream",
     "text": [
      "[nltk_data] Downloading package punkt to /home/jovyan/nltk_data...\n",
      "[nltk_data]   Package punkt is already up-to-date!\n"
     ]
    },
    {
     "data": {
      "text/plain": [
       "True"
      ]
     },
     "execution_count": 31,
     "metadata": {},
     "output_type": "execute_result"
    }
   ],
   "source": [
    "nltk.download('punkt')"
   ]
  },
  {
   "cell_type": "code",
   "execution_count": 32,
   "id": "6b61ccb6-88fd-4fb0-829f-b18ae2cf7c31",
   "metadata": {},
   "outputs": [],
   "source": [
    "tokens = nltk.word_tokenize(sentence)"
   ]
  },
  {
   "cell_type": "code",
   "execution_count": 33,
   "id": "2ed268f4-965a-4c0e-a60a-b47d602cb677",
   "metadata": {},
   "outputs": [
    {
     "name": "stdout",
     "output_type": "stream",
     "text": [
      "Note\n",
      ":\n",
      "you\n",
      "may\n",
      "need\n",
      "to\n",
      "update\n",
      "the\n",
      "kernel\n",
      "to\n",
      "use\n",
      "updated\n",
      "package\n",
      ".\n"
     ]
    }
   ],
   "source": [
    "for word in tokens:\n",
    "    print(wnl.lemmatize(word))"
   ]
  },
  {
   "cell_type": "code",
   "execution_count": 34,
   "id": "aa5803ec-7d31-445c-b44d-e6e9ceef4649",
   "metadata": {},
   "outputs": [
    {
     "name": "stdout",
     "output_type": "stream",
     "text": [
      "Requirement already satisfied: textblob in /opt/conda/lib/python3.11/site-packages (0.18.0.post0)\n",
      "Requirement already satisfied: nltk>=3.8 in /opt/conda/lib/python3.11/site-packages (from textblob) (3.8.1)\n",
      "Requirement already satisfied: click in /opt/conda/lib/python3.11/site-packages (from nltk>=3.8->textblob) (8.1.7)\n",
      "Requirement already satisfied: joblib in /opt/conda/lib/python3.11/site-packages (from nltk>=3.8->textblob) (1.4.2)\n",
      "Requirement already satisfied: regex>=2021.8.3 in /opt/conda/lib/python3.11/site-packages (from nltk>=3.8->textblob) (2024.5.15)\n",
      "Requirement already satisfied: tqdm in /opt/conda/lib/python3.11/site-packages (from nltk>=3.8->textblob) (4.66.4)\n",
      "Note: you may need to restart the kernel to use updated packages.\n"
     ]
    }
   ],
   "source": [
    "%pip install textblob"
   ]
  },
  {
   "cell_type": "code",
   "execution_count": 35,
   "id": "e7c579a0-f520-4744-82cc-446906eaf531",
   "metadata": {},
   "outputs": [],
   "source": [
    "from textblob import TextBlob, Word"
   ]
  },
  {
   "cell_type": "code",
   "execution_count": 36,
   "id": "76ded114-f281-4e06-af5d-605235220cef",
   "metadata": {},
   "outputs": [],
   "source": [
    "dog = 'dogs'"
   ]
  },
  {
   "cell_type": "code",
   "execution_count": 37,
   "id": "d8da3a1a-7e75-4fc2-857b-3b67075a8b06",
   "metadata": {},
   "outputs": [],
   "source": [
    "w = Word(dog)"
   ]
  },
  {
   "cell_type": "code",
   "execution_count": 38,
   "id": "bd1509e6-6035-4d0c-a558-9b9c986904b7",
   "metadata": {},
   "outputs": [
    {
     "data": {
      "text/plain": [
       "'dog'"
      ]
     },
     "execution_count": 38,
     "metadata": {},
     "output_type": "execute_result"
    }
   ],
   "source": [
    "w.lemmatize()"
   ]
  },
  {
   "cell_type": "code",
   "execution_count": 39,
   "id": "05565f77-97d0-4eb6-aeec-8b76d39d597d",
   "metadata": {},
   "outputs": [],
   "source": [
    "s = TextBlob(sentence)"
   ]
  },
  {
   "cell_type": "code",
   "execution_count": 40,
   "id": "4b30a934-eddc-49a8-9fff-5406fa255c58",
   "metadata": {},
   "outputs": [
    {
     "name": "stdout",
     "output_type": "stream",
     "text": [
      "Note\n",
      "you\n",
      "may\n",
      "need\n",
      "to\n",
      "update\n",
      "the\n",
      "kernel\n",
      "to\n",
      "use\n",
      "updated\n",
      "package\n"
     ]
    }
   ],
   "source": [
    "for word in s.words:\n",
    "    print(word.lemmatize())"
   ]
  },
  {
   "cell_type": "code",
   "execution_count": 42,
   "id": "7845e099-93c0-472e-8281-e6aad34a578b",
   "metadata": {},
   "outputs": [
    {
     "name": "stderr",
     "output_type": "stream",
     "text": [
      "[nltk_data] Downloading package averaged_perceptron_tagger to\n",
      "[nltk_data]     /home/jovyan/nltk_data...\n",
      "[nltk_data]   Unzipping taggers/averaged_perceptron_tagger.zip.\n"
     ]
    },
    {
     "data": {
      "text/plain": [
       "True"
      ]
     },
     "execution_count": 42,
     "metadata": {},
     "output_type": "execute_result"
    }
   ],
   "source": [
    "nltk.download('averaged_perceptron_tagger')"
   ]
  },
  {
   "cell_type": "code",
   "execution_count": 43,
   "id": "71f536d3-9441-4118-987d-86ae4a7244e7",
   "metadata": {},
   "outputs": [
    {
     "data": {
      "text/plain": [
       "[('Note', 'NN'),\n",
       " (':', ':'),\n",
       " ('you', 'PRP'),\n",
       " ('may', 'MD'),\n",
       " ('need', 'VB'),\n",
       " ('to', 'TO'),\n",
       " ('update', 'VB'),\n",
       " ('the', 'DT'),\n",
       " ('kernel', 'NN'),\n",
       " ('to', 'TO'),\n",
       " ('use', 'VB'),\n",
       " ('updated', 'JJ'),\n",
       " ('packages', 'NNS'),\n",
       " ('.', '.')]"
      ]
     },
     "execution_count": 43,
     "metadata": {},
     "output_type": "execute_result"
    }
   ],
   "source": [
    "nltk.pos_tag(tokens)"
   ]
  },
  {
   "cell_type": "markdown",
   "id": "29513c6f-b220-4e59-85d3-c6017333bad8",
   "metadata": {},
   "source": [
    "# Part of Speech Notation\n",
    "CC coordinating conjunction \n",
    "CD cardinal digit \n",
    "DT determiner \n",
    "EX existential there (like: “there is” … think of it like “there exists”) \n",
    "FW foreign word \n",
    "IN preposition/subordinating conjunction \n",
    "JJ adjective – ‘big’ \n",
    "JJR adjective, comparative – ‘bigger’ \n",
    "JJS adjective, superlative – ‘biggest’ \n",
    "LS list marker 1) \n",
    "MD modal – could, will \n",
    "NN noun, singular ‘- desk’ \n",
    "NNS noun plural – ‘desks’ \n",
    "NNP proper noun, singular – ‘Harrison’ \n",
    "NNPS proper noun, plural – ‘Americans’ \n",
    "PDT predeterminer – ‘all the kids’ \n",
    "POS possessive ending parent’s \n",
    "PRP personal pronoun –  I, he, she \n",
    "PRP$ possessive pronoun – my, his, hers \n",
    "RB adverb – very, silently, \n",
    "RBR adverb, comparative – better \n",
    "RBS adverb, superlative – best \n",
    "RP particle – give up \n",
    "TO – to go ‘to’ the store. \n",
    "UH interjection – errrrrrrrm \n",
    "VB verb, base form – take \n",
    "VBD verb, past tense – took \n",
    "VBG verb, gerund/present participle – taking \n",
    "VBN verb, past participle – taken \n",
    "VBP verb, sing. present, non-3d – take \n",
    "VBZ verb, 3rd person sing. present – takes \n",
    "WDT wh-determiner – which \n",
    "WP wh-pronoun – who, what \n",
    "WP$ possessive wh-pronoun, eg- whose \n",
    "WRB wh-adverb, eg- where, when"
   ]
  },
  {
   "cell_type": "code",
   "execution_count": 59,
   "id": "3cbfe2b6-9c9e-4f2d-a1c3-8fea0c79e2cb",
   "metadata": {},
   "outputs": [],
   "source": [
    "lower_sentence = sentence.lower()"
   ]
  },
  {
   "cell_type": "code",
   "execution_count": 60,
   "id": "042924d7-fa09-401c-bd10-2e288e2bf198",
   "metadata": {},
   "outputs": [
    {
     "data": {
      "text/plain": [
       "'note: you may need to update the kernel to use updated packages.'"
      ]
     },
     "execution_count": 60,
     "metadata": {},
     "output_type": "execute_result"
    }
   ],
   "source": [
    "lower_sentence"
   ]
  },
  {
   "cell_type": "code",
   "execution_count": 61,
   "id": "05cc0f38-3950-4c91-9108-5d72dcb31cb6",
   "metadata": {},
   "outputs": [],
   "source": [
    "lower_sentence = lower_sentence.replace('.','')"
   ]
  },
  {
   "cell_type": "code",
   "execution_count": 62,
   "id": "5a6def68-97cb-48ca-9b1f-c4794ab0fc54",
   "metadata": {},
   "outputs": [],
   "source": [
    "lower_sentence = lower_sentence.replace(':','')"
   ]
  },
  {
   "cell_type": "code",
   "execution_count": 63,
   "id": "e0d12fe7-aae8-4040-a922-a6bca7823eaf",
   "metadata": {},
   "outputs": [],
   "source": [
    "lower_sentence = '     ' + lower_sentence "
   ]
  },
  {
   "cell_type": "code",
   "execution_count": 64,
   "id": "3fe15c80-eb9e-4f16-baf3-db0522ebdc05",
   "metadata": {},
   "outputs": [
    {
     "data": {
      "text/plain": [
       "'     note you may need to update the kernel to use updated packages'"
      ]
     },
     "execution_count": 64,
     "metadata": {},
     "output_type": "execute_result"
    }
   ],
   "source": [
    "lower_sentence"
   ]
  },
  {
   "cell_type": "code",
   "execution_count": 66,
   "id": "0867fbba-a826-41fe-9e98-69bcbd405022",
   "metadata": {},
   "outputs": [],
   "source": [
    "lower_sentence = lower_sentence.strip()"
   ]
  },
  {
   "cell_type": "code",
   "execution_count": 67,
   "id": "abed84bd-490c-426c-8d5f-a6d882b437e3",
   "metadata": {},
   "outputs": [],
   "source": [
    "listS = lower_sentence.split(' ')"
   ]
  },
  {
   "cell_type": "code",
   "execution_count": 68,
   "id": "04014abc-bbcf-4d74-addc-e30c0e8f5fce",
   "metadata": {},
   "outputs": [
    {
     "data": {
      "text/plain": [
       "['note',\n",
       " 'you',\n",
       " 'may',\n",
       " 'need',\n",
       " 'to',\n",
       " 'update',\n",
       " 'the',\n",
       " 'kernel',\n",
       " 'to',\n",
       " 'use',\n",
       " 'updated',\n",
       " 'packages']"
      ]
     },
     "execution_count": 68,
     "metadata": {},
     "output_type": "execute_result"
    }
   ],
   "source": [
    "listS"
   ]
  },
  {
   "cell_type": "code",
   "execution_count": null,
   "id": "1399a6bb-dc66-4fdc-97c0-9815dffdb4bb",
   "metadata": {},
   "outputs": [],
   "source": [
    "# vectorization\n",
    "boy, girl, man, woman\n"
   ]
  }
 ],
 "metadata": {
  "kernelspec": {
   "display_name": "Python 3 (ipykernel)",
   "language": "python",
   "name": "python3"
  },
  "language_info": {
   "codemirror_mode": {
    "name": "ipython",
    "version": 3
   },
   "file_extension": ".py",
   "mimetype": "text/x-python",
   "name": "python",
   "nbconvert_exporter": "python",
   "pygments_lexer": "ipython3",
   "version": "3.11.9"
  }
 },
 "nbformat": 4,
 "nbformat_minor": 5
}
