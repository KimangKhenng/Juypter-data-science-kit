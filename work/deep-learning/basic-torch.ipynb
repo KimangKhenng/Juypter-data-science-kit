{
 "cells": [
  {
   "cell_type": "code",
   "execution_count": 2,
   "id": "62f89382-8b84-4d20-976c-d46ecc04270d",
   "metadata": {},
   "outputs": [
    {
     "name": "stdout",
     "output_type": "stream",
     "text": [
      "Collecting torch\n",
      "  Downloading torch-2.3.1-cp311-cp311-manylinux2014_aarch64.whl.metadata (26 kB)\n",
      "Collecting filelock (from torch)\n",
      "  Downloading filelock-3.15.4-py3-none-any.whl.metadata (2.9 kB)\n",
      "Requirement already satisfied: typing-extensions>=4.8.0 in /opt/conda/lib/python3.11/site-packages (from torch) (4.11.0)\n",
      "Requirement already satisfied: sympy in /opt/conda/lib/python3.11/site-packages (from torch) (1.12)\n",
      "Requirement already satisfied: networkx in /opt/conda/lib/python3.11/site-packages (from torch) (3.3)\n",
      "Requirement already satisfied: jinja2 in /opt/conda/lib/python3.11/site-packages (from torch) (3.1.3)\n",
      "Requirement already satisfied: fsspec in /opt/conda/lib/python3.11/site-packages (from torch) (2024.3.1)\n",
      "Requirement already satisfied: MarkupSafe>=2.0 in /opt/conda/lib/python3.11/site-packages (from jinja2->torch) (2.1.5)\n",
      "Requirement already satisfied: mpmath>=0.19 in /opt/conda/lib/python3.11/site-packages (from sympy->torch) (1.3.0)\n",
      "Downloading torch-2.3.1-cp311-cp311-manylinux2014_aarch64.whl (86.9 MB)\n",
      "\u001b[2K   \u001b[90m━━━━━━━━━━━━━━━━━━━━━━━━━━━━━━━━━━━━━━━━\u001b[0m \u001b[32m86.9/86.9 MB\u001b[0m \u001b[31m167.4 kB/s\u001b[0m eta \u001b[36m0:00:00\u001b[0m00:01\u001b[0m00:13\u001b[0m\n",
      "\u001b[?25hDownloading filelock-3.15.4-py3-none-any.whl (16 kB)\n",
      "Installing collected packages: filelock, torch\n",
      "Successfully installed filelock-3.15.4 torch-2.3.1\n"
     ]
    }
   ],
   "source": [
    "!pip install torch"
   ]
  },
  {
   "cell_type": "code",
   "execution_count": 80,
   "id": "814b17cc-9000-4348-a302-65f295b1eedc",
   "metadata": {},
   "outputs": [],
   "source": [
    "import torch\n",
    "import torch.nn as nn\n",
    "import torch.optim as optim"
   ]
  },
  {
   "cell_type": "code",
   "execution_count": 81,
   "id": "b6b1f09a-561a-4c8f-a406-852050cff37d",
   "metadata": {},
   "outputs": [],
   "source": [
    "class MLPCLassifier(nn.Module):\n",
    "    def __init__(self):\n",
    "        super(MLPCLassifier,self).__init__()\n",
    "        self.input = nn.Linear(4,6)\n",
    "        self.hidden = nn.Linear(6,6)\n",
    "        self.output = nn.Linear(6,3)\n",
    "    def forward(self, x):\n",
    "        x = torch.relu(self.input(x))\n",
    "        x = torch.relu(self.hidden(x))\n",
    "        x = torch.relu(self.output(x))\n",
    "        return x"
   ]
  },
  {
   "cell_type": "code",
   "execution_count": 82,
   "id": "d69dd816-f1d0-4d71-85fe-fba0279c107f",
   "metadata": {},
   "outputs": [],
   "source": [
    "from sklearn.datasets import load_iris"
   ]
  },
  {
   "cell_type": "code",
   "execution_count": 83,
   "id": "84b3debe-490d-4587-9bcb-64286c8ba5a0",
   "metadata": {},
   "outputs": [],
   "source": [
    "iris = load_iris()"
   ]
  },
  {
   "cell_type": "code",
   "execution_count": 84,
   "id": "259e3990-25a9-495a-b084-84c68d15b314",
   "metadata": {},
   "outputs": [],
   "source": [
    "X = iris.data\n",
    "Y = iris.target"
   ]
  },
  {
   "cell_type": "code",
   "execution_count": 85,
   "id": "0208a89c-2134-439d-9598-6e35ff6c3fe7",
   "metadata": {},
   "outputs": [],
   "source": [
    "from sklearn.model_selection import train_test_split"
   ]
  },
  {
   "cell_type": "code",
   "execution_count": 86,
   "id": "948a8aef-5704-4434-b096-247c5f8c7aa5",
   "metadata": {},
   "outputs": [],
   "source": [
    "X_train, X_test, Y_train, Y_test = train_test_split(X,Y)"
   ]
  },
  {
   "cell_type": "code",
   "execution_count": 87,
   "id": "5a8b8fe1-e716-4c08-94cf-5774429aa2ab",
   "metadata": {},
   "outputs": [],
   "source": [
    "X_train = torch.tensor(X_train, dtype=torch.float32)"
   ]
  },
  {
   "cell_type": "code",
   "execution_count": 88,
   "id": "3edfd9c3-42b6-405e-b3a2-b5092071c3ab",
   "metadata": {},
   "outputs": [],
   "source": [
    "X_test = torch.tensor(X_test, dtype=torch.float32)\n",
    "Y_train = torch.tensor(Y_train, dtype=torch.long)\n",
    "Y_test = torch.tensor(Y_test, dtype=torch.long)"
   ]
  },
  {
   "cell_type": "code",
   "execution_count": 89,
   "id": "1b382f65-1368-4902-9015-61cc4f0de54a",
   "metadata": {},
   "outputs": [],
   "source": [
    "from torch.utils.data import DataLoader, TensorDataset"
   ]
  },
  {
   "cell_type": "code",
   "execution_count": 90,
   "id": "1c067704-ea82-4b82-bab7-d4b14b4f7d74",
   "metadata": {},
   "outputs": [],
   "source": [
    "train_dataset = TensorDataset(X_train, Y_train)"
   ]
  },
  {
   "cell_type": "code",
   "execution_count": 101,
   "id": "42142814-0e43-4f18-807a-ba4b5130489e",
   "metadata": {},
   "outputs": [],
   "source": [
    "train_loader = DataLoader(train_dataset, batch_size=32, shuffle=True)"
   ]
  },
  {
   "cell_type": "code",
   "execution_count": 102,
   "id": "542c53c7-c273-4039-b02b-ac124a6f9247",
   "metadata": {},
   "outputs": [],
   "source": [
    "model = MLPCLassifier()"
   ]
  },
  {
   "cell_type": "code",
   "execution_count": 103,
   "id": "8f565642-92a5-460a-a9ba-354a39db1a85",
   "metadata": {},
   "outputs": [],
   "source": [
    "criterion = nn.CrossEntropyLoss()"
   ]
  },
  {
   "cell_type": "code",
   "execution_count": 104,
   "id": "afe452c8-8e3f-446b-b22d-438a008a22fd",
   "metadata": {},
   "outputs": [],
   "source": [
    "# Optimize weight, bais \n",
    "optimizer = optim.SGD(model.parameters(), lr=0.001)"
   ]
  },
  {
   "cell_type": "code",
   "execution_count": 105,
   "id": "6074915b-d9b6-47d3-9e63-37a0b1e297fb",
   "metadata": {},
   "outputs": [],
   "source": [
    "num_epochs = 1000\n"
   ]
  },
  {
   "cell_type": "code",
   "execution_count": 112,
   "id": "6c4a12c9-506b-44dd-98db-9b5f2333670e",
   "metadata": {},
   "outputs": [
    {
     "name": "stdout",
     "output_type": "stream",
     "text": [
      "Epoch [10/1000], loss: 0.4422\n",
      "Epoch [20/1000], loss: 0.3177\n",
      "Epoch [30/1000], loss: 0.3513\n",
      "Epoch [40/1000], loss: 0.3787\n",
      "Epoch [50/1000], loss: 0.2907\n",
      "Epoch [60/1000], loss: 0.3924\n",
      "Epoch [70/1000], loss: 0.3895\n",
      "Epoch [80/1000], loss: 0.4231\n",
      "Epoch [90/1000], loss: 0.3617\n",
      "Epoch [100/1000], loss: 0.2915\n",
      "Epoch [110/1000], loss: 0.3088\n",
      "Epoch [120/1000], loss: 0.3961\n",
      "Epoch [130/1000], loss: 0.2471\n",
      "Epoch [140/1000], loss: 0.3318\n",
      "Epoch [150/1000], loss: 0.2570\n",
      "Epoch [160/1000], loss: 0.3263\n",
      "Epoch [170/1000], loss: 0.3662\n",
      "Epoch [180/1000], loss: 0.3491\n",
      "Epoch [190/1000], loss: 0.2807\n",
      "Epoch [200/1000], loss: 0.2889\n",
      "Epoch [210/1000], loss: 0.2581\n",
      "Epoch [220/1000], loss: 0.3349\n",
      "Epoch [230/1000], loss: 0.2337\n",
      "Epoch [240/1000], loss: 0.3489\n",
      "Epoch [250/1000], loss: 0.3000\n",
      "Epoch [260/1000], loss: 0.2387\n",
      "Epoch [270/1000], loss: 0.2260\n",
      "Epoch [280/1000], loss: 0.3211\n",
      "Epoch [290/1000], loss: 0.2000\n",
      "Epoch [300/1000], loss: 0.1596\n",
      "Epoch [310/1000], loss: 0.2267\n",
      "Epoch [320/1000], loss: 0.3168\n",
      "Epoch [330/1000], loss: 0.3171\n",
      "Epoch [340/1000], loss: 0.3134\n",
      "Epoch [350/1000], loss: 0.3407\n",
      "Epoch [360/1000], loss: 0.2233\n",
      "Epoch [370/1000], loss: 0.1918\n",
      "Epoch [380/1000], loss: 0.2158\n",
      "Epoch [390/1000], loss: 0.2158\n",
      "Epoch [400/1000], loss: 0.1828\n",
      "Epoch [410/1000], loss: 0.1726\n",
      "Epoch [420/1000], loss: 0.2296\n",
      "Epoch [430/1000], loss: 0.2490\n",
      "Epoch [440/1000], loss: 0.2933\n",
      "Epoch [450/1000], loss: 0.2467\n",
      "Epoch [460/1000], loss: 0.2295\n",
      "Epoch [470/1000], loss: 0.1608\n",
      "Epoch [480/1000], loss: 0.2533\n",
      "Epoch [490/1000], loss: 0.1916\n",
      "Epoch [500/1000], loss: 0.2491\n",
      "Epoch [510/1000], loss: 0.1710\n",
      "Epoch [520/1000], loss: 0.1923\n",
      "Epoch [530/1000], loss: 0.2084\n",
      "Epoch [540/1000], loss: 0.2006\n",
      "Epoch [550/1000], loss: 0.1876\n",
      "Epoch [560/1000], loss: 0.2428\n",
      "Epoch [570/1000], loss: 0.1340\n",
      "Epoch [580/1000], loss: 0.1661\n",
      "Epoch [590/1000], loss: 0.2553\n",
      "Epoch [600/1000], loss: 0.2497\n",
      "Epoch [610/1000], loss: 0.2050\n",
      "Epoch [620/1000], loss: 0.1523\n",
      "Epoch [630/1000], loss: 0.2059\n",
      "Epoch [640/1000], loss: 0.2161\n",
      "Epoch [650/1000], loss: 0.2781\n",
      "Epoch [660/1000], loss: 0.1113\n",
      "Epoch [670/1000], loss: 0.1955\n",
      "Epoch [680/1000], loss: 0.1851\n",
      "Epoch [690/1000], loss: 0.1536\n",
      "Epoch [700/1000], loss: 0.1366\n",
      "Epoch [710/1000], loss: 0.1954\n",
      "Epoch [720/1000], loss: 0.1904\n",
      "Epoch [730/1000], loss: 0.1796\n",
      "Epoch [740/1000], loss: 0.1183\n",
      "Epoch [750/1000], loss: 0.1143\n",
      "Epoch [760/1000], loss: 0.1676\n",
      "Epoch [770/1000], loss: 0.0792\n",
      "Epoch [780/1000], loss: 0.1754\n",
      "Epoch [790/1000], loss: 0.2072\n",
      "Epoch [800/1000], loss: 0.2987\n",
      "Epoch [810/1000], loss: 0.1415\n",
      "Epoch [820/1000], loss: 0.1630\n",
      "Epoch [830/1000], loss: 0.1699\n",
      "Epoch [840/1000], loss: 0.1517\n",
      "Epoch [850/1000], loss: 0.1881\n",
      "Epoch [860/1000], loss: 0.2485\n",
      "Epoch [870/1000], loss: 0.1298\n",
      "Epoch [880/1000], loss: 0.2322\n",
      "Epoch [890/1000], loss: 0.1936\n",
      "Epoch [900/1000], loss: 0.0912\n",
      "Epoch [910/1000], loss: 0.1250\n",
      "Epoch [920/1000], loss: 0.1525\n",
      "Epoch [930/1000], loss: 0.2000\n",
      "Epoch [940/1000], loss: 0.1403\n",
      "Epoch [950/1000], loss: 0.1136\n",
      "Epoch [960/1000], loss: 0.1005\n",
      "Epoch [970/1000], loss: 0.1504\n",
      "Epoch [980/1000], loss: 0.1215\n",
      "Epoch [990/1000], loss: 0.1410\n",
      "Epoch [1000/1000], loss: 0.0796\n"
     ]
    }
   ],
   "source": [
    "for epoch in range(num_epochs):\n",
    "    for inputs, labels in train_loader:\n",
    "        optimizer.zero_grad()\n",
    "        output = model(inputs)\n",
    "        # Calculate LOSS\n",
    "        loss = criterion(output, labels)\n",
    "        loss.backward()\n",
    "        optimizer.step()\n",
    "    if(epoch + 1) % 10 == 0:\n",
    "        print(f'Epoch [{epoch + 1}/{num_epochs}], loss: {loss.item():.4f}')"
   ]
  },
  {
   "cell_type": "code",
   "execution_count": 113,
   "id": "b1db0d66-2e0e-487d-90b3-c8f19c6fd84f",
   "metadata": {},
   "outputs": [
    {
     "data": {
      "text/plain": [
       "MLPCLassifier(\n",
       "  (input): Linear(in_features=4, out_features=6, bias=True)\n",
       "  (hidden): Linear(in_features=6, out_features=6, bias=True)\n",
       "  (output): Linear(in_features=6, out_features=3, bias=True)\n",
       ")"
      ]
     },
     "execution_count": 113,
     "metadata": {},
     "output_type": "execute_result"
    }
   ],
   "source": [
    "model.eval()"
   ]
  },
  {
   "cell_type": "code",
   "execution_count": 114,
   "id": "8b3aebcb-5233-4b65-9818-36c72b930eff",
   "metadata": {},
   "outputs": [],
   "source": [
    "with torch.no_grad():\n",
    "    output = model(X_test)\n",
    "    _, predicted = torch.max(output, 1)"
   ]
  },
  {
   "cell_type": "code",
   "execution_count": 115,
   "id": "a05f819e-c41a-4412-81bc-0ab2d383c3dd",
   "metadata": {},
   "outputs": [
    {
     "data": {
      "text/plain": [
       "tensor([0, 1, 1, 2, 0, 2, 2, 0, 0, 0, 1, 0, 1, 2, 2, 0, 0, 2, 2, 2, 2, 2, 0, 2,\n",
       "        2, 2, 0, 2, 1, 2, 2, 1, 1, 1, 2, 1, 0, 2])"
      ]
     },
     "execution_count": 115,
     "metadata": {},
     "output_type": "execute_result"
    }
   ],
   "source": [
    "predicted"
   ]
  },
  {
   "cell_type": "code",
   "execution_count": 116,
   "id": "f5601978-5ff9-43ed-ab34-0acad89e0a25",
   "metadata": {},
   "outputs": [],
   "source": [
    "accuracy = (predicted == Y_test).sum().item() / len(Y_test)"
   ]
  },
  {
   "cell_type": "code",
   "execution_count": 117,
   "id": "b9e01a40-721b-446d-a99f-29507eca7d80",
   "metadata": {},
   "outputs": [
    {
     "data": {
      "text/plain": [
       "0.9736842105263158"
      ]
     },
     "execution_count": 117,
     "metadata": {},
     "output_type": "execute_result"
    }
   ],
   "source": [
    "accuracy"
   ]
  },
  {
   "cell_type": "code",
   "execution_count": null,
   "id": "e12bb4a8-b74f-4139-a638-ad3bd0483494",
   "metadata": {},
   "outputs": [],
   "source": []
  }
 ],
 "metadata": {
  "kernelspec": {
   "display_name": "Python 3 (ipykernel)",
   "language": "python",
   "name": "python3"
  },
  "language_info": {
   "codemirror_mode": {
    "name": "ipython",
    "version": 3
   },
   "file_extension": ".py",
   "mimetype": "text/x-python",
   "name": "python",
   "nbconvert_exporter": "python",
   "pygments_lexer": "ipython3",
   "version": "3.11.9"
  }
 },
 "nbformat": 4,
 "nbformat_minor": 5
}
