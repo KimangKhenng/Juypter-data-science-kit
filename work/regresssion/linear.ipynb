{
 "cells": [
  {
   "cell_type": "code",
   "execution_count": 6,
   "id": "c6e29403-0283-4242-997e-5fd05d923a7e",
   "metadata": {},
   "outputs": [],
   "source": [
    "import pandas as pd\n",
    "import numpy as np\n",
    "import matplotlib.pyplot as plt\n",
    "from sklearn.model_selection import train_test_split"
   ]
  },
  {
   "cell_type": "code",
   "execution_count": 8,
   "id": "5a5eff66-6965-47f9-ad06-2d6490a49bc4",
   "metadata": {},
   "outputs": [
    {
     "data": {
      "text/html": [
       "<div>\n",
       "<style scoped>\n",
       "    .dataframe tbody tr th:only-of-type {\n",
       "        vertical-align: middle;\n",
       "    }\n",
       "\n",
       "    .dataframe tbody tr th {\n",
       "        vertical-align: top;\n",
       "    }\n",
       "\n",
       "    .dataframe thead th {\n",
       "        text-align: right;\n",
       "    }\n",
       "</style>\n",
       "<table border=\"1\" class=\"dataframe\">\n",
       "  <thead>\n",
       "    <tr style=\"text-align: right;\">\n",
       "      <th></th>\n",
       "      <th>x</th>\n",
       "      <th>y</th>\n",
       "    </tr>\n",
       "  </thead>\n",
       "  <tbody>\n",
       "    <tr>\n",
       "      <th>0</th>\n",
       "      <td>77</td>\n",
       "      <td>79.775152</td>\n",
       "    </tr>\n",
       "    <tr>\n",
       "      <th>1</th>\n",
       "      <td>21</td>\n",
       "      <td>23.177279</td>\n",
       "    </tr>\n",
       "    <tr>\n",
       "      <th>2</th>\n",
       "      <td>22</td>\n",
       "      <td>25.609262</td>\n",
       "    </tr>\n",
       "    <tr>\n",
       "      <th>3</th>\n",
       "      <td>20</td>\n",
       "      <td>17.857388</td>\n",
       "    </tr>\n",
       "    <tr>\n",
       "      <th>4</th>\n",
       "      <td>36</td>\n",
       "      <td>41.849864</td>\n",
       "    </tr>\n",
       "  </tbody>\n",
       "</table>\n",
       "</div>"
      ],
      "text/plain": [
       "    x          y\n",
       "0  77  79.775152\n",
       "1  21  23.177279\n",
       "2  22  25.609262\n",
       "3  20  17.857388\n",
       "4  36  41.849864"
      ]
     },
     "execution_count": 8,
     "metadata": {},
     "output_type": "execute_result"
    }
   ],
   "source": [
    "data = pd.read_csv('test.csv')\n",
    "data = data.dropna()\n",
    "# To-do list\n",
    "# Always perform EDA\n",
    "# If null, incomplete, preprocessing\n",
    "data.head()"
   ]
  },
  {
   "cell_type": "code",
   "execution_count": 9,
   "id": "4558913e-2fa0-480b-bedd-c362e8649838",
   "metadata": {},
   "outputs": [],
   "source": [
    "X = data['x']\n",
    "Y = data['y']"
   ]
  },
  {
   "cell_type": "code",
   "execution_count": 11,
   "id": "60c82d48-e5b9-4dfa-82f2-d66c9a23ca1b",
   "metadata": {},
   "outputs": [],
   "source": [
    "# Split data into traning and testing \n",
    "training_x, testing_x , training_y , testing_y = train_test_split(X,Y, test_size=0.25)"
   ]
  },
  {
   "cell_type": "code",
   "execution_count": 17,
   "id": "d752dc35-ead7-43db-bff6-a14ca270cedd",
   "metadata": {},
   "outputs": [],
   "source": [
    "# Y = ax + b "
   ]
  },
  {
   "cell_type": "code",
   "execution_count": 43,
   "id": "4f69faaa-f986-4be1-b3e6-4bc6d7ac3dbd",
   "metadata": {},
   "outputs": [],
   "source": [
    "class LinearRegression:\n",
    "    def __init__(self):\n",
    "        self.parameters = {}\n",
    "    def prediction(self, train_data):\n",
    "        a = self.parameters['a']\n",
    "        b = self.parameters['b']\n",
    "        predictions = np.multiply(a, train_data) + b\n",
    "        return predictions\n",
    "    def cost_function(self, predictions, train_output):\n",
    "        cost = np.mean((predictions - train_output)**2)\n",
    "        return cost\n",
    "    def back_propagation(self, train_data, train_ouput, predictions):\n",
    "        #derivative\n",
    "        derivatives = {}\n",
    "        da = 2*np.mean(np.multiply(predictions-train_ouput, train_data))\n",
    "        db = 2*np.mean(predictions-train_ouput)\n",
    "        derivatives['da'] = da\n",
    "        derivatives['db'] = db\n",
    "        return derivatives\n",
    "    def update_parameters(self, derivatives, learning_rate):\n",
    "        self.parameters['a'] = self.parameters['a'] - learning_rate*derivatives['da']\n",
    "        self.parameters['b'] = self.parameters['b'] - learning_rate*derivatives['db']\n",
    "        \n",
    "    def train(self, train_data, train_output, learning_rate, iters):\n",
    "        # Random starting \n",
    "        self.parameters['a'] = np.random.uniform(0,1) * -1\n",
    "        self.parameters['b'] = np.random.uniform(0,1) * -1\n",
    "        self.loss = []\n",
    "        \n",
    "        def update(iteration):\n",
    "            predictions = self.prediction(train_data)    \n",
    "            cost = self.cost_function(predictions, train_output)\n",
    "            derivatives = self.back_propagation(train_data, train_output, predictions)\n",
    "            self.update_parameters(derivatives, learning_rate)\n",
    "            self.loss.append(cost)\n",
    "            print(\"Iteration = {}, Loss = {}\".format(iteration + 1, cost))\n",
    "\n",
    "        i = 0\n",
    "        while i < iters:\n",
    "            update(i)\n",
    "            i += 1\n",
    "        \n",
    "        return self.parameters, self.loss"
   ]
  },
  {
   "cell_type": "code",
   "execution_count": 44,
   "id": "ecfbcaa5-f4d6-4884-be57-8b20eecff9f4",
   "metadata": {},
   "outputs": [],
   "source": [
    "linear_regression = LinearRegression()"
   ]
  },
  {
   "cell_type": "code",
   "execution_count": 46,
   "id": "e3dde96c-709a-47c2-9671-646a329cedd3",
   "metadata": {},
   "outputs": [
    {
     "name": "stdout",
     "output_type": "stream",
     "text": [
      "Iteration = 1, Loss = 11922.935159663419\n",
      "Iteration = 2, Loss = 1667.8580285076544\n",
      "Iteration = 3, Loss = 239.68362172219676\n",
      "Iteration = 4, Loss = 40.78875754164262\n",
      "Iteration = 5, Loss = 13.089639032790728\n",
      "Iteration = 6, Loss = 9.232114173529473\n",
      "Iteration = 7, Loss = 8.694891378929272\n",
      "Iteration = 8, Loss = 8.620070803381994\n",
      "Iteration = 9, Loss = 8.60964672226135\n",
      "Iteration = 10, Loss = 8.608190826181742\n",
      "Iteration = 11, Loss = 8.607983885767137\n",
      "Iteration = 12, Loss = 8.607950881721049\n",
      "Iteration = 13, Loss = 8.607942101367266\n",
      "Iteration = 14, Loss = 8.607936694954043\n",
      "Iteration = 15, Loss = 8.60793175883845\n",
      "Iteration = 16, Loss = 8.607926888644307\n",
      "Iteration = 17, Loss = 8.607922028056077\n",
      "Iteration = 18, Loss = 8.607917169230921\n",
      "Iteration = 19, Loss = 8.607912311076575\n",
      "Iteration = 20, Loss = 8.60790745344087\n",
      "Iteration = 21, Loss = 8.607902596302575\n",
      "Iteration = 22, Loss = 8.607897739658693\n",
      "Iteration = 23, Loss = 8.60789288350876\n",
      "Iteration = 24, Loss = 8.60788802785267\n",
      "Iteration = 25, Loss = 8.60788317269036\n",
      "Iteration = 26, Loss = 8.607878318021788\n",
      "Iteration = 27, Loss = 8.607873463846897\n",
      "Iteration = 28, Loss = 8.607868610165637\n",
      "Iteration = 29, Loss = 8.607863756977956\n",
      "Iteration = 30, Loss = 8.607858904283809\n",
      "Iteration = 31, Loss = 8.607854052083145\n",
      "Iteration = 32, Loss = 8.607849200375911\n",
      "Iteration = 33, Loss = 8.607844349162056\n",
      "Iteration = 34, Loss = 8.607839498441534\n",
      "Iteration = 35, Loss = 8.607834648214292\n",
      "Iteration = 36, Loss = 8.607829798480283\n",
      "Iteration = 37, Loss = 8.607824949239452\n",
      "Iteration = 38, Loss = 8.607820100491752\n",
      "Iteration = 39, Loss = 8.607815252237135\n",
      "Iteration = 40, Loss = 8.607810404475543\n",
      "Iteration = 41, Loss = 8.607805557206932\n",
      "Iteration = 42, Loss = 8.60780071043125\n",
      "Iteration = 43, Loss = 8.60779586414845\n",
      "Iteration = 44, Loss = 8.607791018358478\n",
      "Iteration = 45, Loss = 8.607786173061287\n",
      "Iteration = 46, Loss = 8.607781328256824\n",
      "Iteration = 47, Loss = 8.60777648394504\n",
      "Iteration = 48, Loss = 8.607771640125886\n",
      "Iteration = 49, Loss = 8.607766796799309\n",
      "Iteration = 50, Loss = 8.60776195396526\n"
     ]
    }
   ],
   "source": [
    "parameters, loss = linear_regression.train(training_x, training_y, 0.0001, 50)"
   ]
  },
  {
   "cell_type": "code",
   "execution_count": null,
   "id": "22b452ce-4f40-4421-a583-c69b1546aa0e",
   "metadata": {},
   "outputs": [],
   "source": [
    "# Evaluation"
   ]
  },
  {
   "cell_type": "code",
   "execution_count": 23,
   "id": "a4bb8f96-e22e-4212-bf62-f0b38021924e",
   "metadata": {},
   "outputs": [
    {
     "data": {
      "text/plain": [
       "{'a': -0.5838838787377266, 'b': -0.27478753050352067}"
      ]
     },
     "execution_count": 23,
     "metadata": {},
     "output_type": "execute_result"
    }
   ],
   "source": [
    "parameters"
   ]
  },
  {
   "cell_type": "code",
   "execution_count": 50,
   "id": "e5549fee-3f76-4725-a355-4fd0fec2cc29",
   "metadata": {},
   "outputs": [],
   "source": [
    "def linear(x):\n",
    "    return parameters['a'] * x + parameters['b']"
   ]
  },
  {
   "cell_type": "code",
   "execution_count": 51,
   "id": "f653aa33-ad58-4277-87d2-e1498cdd4069",
   "metadata": {},
   "outputs": [],
   "source": [
    "predicted = list(map(linear,training_x))"
   ]
  },
  {
   "cell_type": "code",
   "execution_count": 53,
   "id": "dccd61f4-b266-4748-94a6-e69a1183e729",
   "metadata": {},
   "outputs": [
    {
     "data": {
      "text/plain": [
       "[<matplotlib.lines.Line2D at 0xffff5f723650>]"
      ]
     },
     "execution_count": 53,
     "metadata": {},
     "output_type": "execute_result"
    },
    {
     "data": {
      "image/png": "[encoded data removed]",
      "text/plain": [
       "<Figure size 640x480 with 1 Axes>"
      ]
     },
     "metadata": {},
     "output_type": "display_data"
    }
   ],
   "source": [
    "plt.scatter(training_x,training_y, color='black')\n",
    "plt.plot(training_x, predicted, color='red')"
   ]
  },
  {
   "cell_type": "code",
   "execution_count": 54,
   "id": "99a60c89-0cd5-4c04-a0b3-4819fc5e2f2c",
   "metadata": {},
   "outputs": [
    {
     "data": {
      "text/plain": [
       "200.47593448297965"
      ]
     },
     "execution_count": 54,
     "metadata": {},
     "output_type": "execute_result"
    }
   ],
   "source": [
    "linear(200)"
   ]
  },
  {
   "cell_type": "code",
   "execution_count": null,
   "id": "a516a597-96a4-4750-ad33-e670f0fce1a9",
   "metadata": {},
   "outputs": [],
   "source": []
  }
 ],
 "metadata": {
  "kernelspec": {
   "display_name": "Python 3 (ipykernel)",
   "language": "python",
   "name": "python3"
  },
  "language_info": {
   "codemirror_mode": {
    "name": "ipython",
    "version": 3
   },
   "file_extension": ".py",
   "mimetype": "text/x-python",
   "name": "python",
   "nbconvert_exporter": "python",
   "pygments_lexer": "ipython3",
   "version": "3.11.8"
  }
 },
 "nbformat": 4,
 "nbformat_minor": 5
}
