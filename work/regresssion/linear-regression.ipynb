{
 "cells": [
  {
   "cell_type": "code",
   "execution_count": 1,
   "id": "edfd2680-927f-4332-9998-dcd7e7af3396",
   "metadata": {},
   "outputs": [],
   "source": [
    "import numpy as np\n",
    "import pandas as pd"
   ]
  },
  {
   "cell_type": "code",
   "execution_count": 2,
   "id": "0fc6bd02-37d4-4035-a6d7-19abdd2f0bdb",
   "metadata": {},
   "outputs": [],
   "source": [
    "data = pd.read_csv('test.csv')\n",
    "data = data.dropna()\n",
    "# To-do list\n",
    "# Always perform EDA\n",
    "# If null, incomplete, preprocessing"
   ]
  },
  {
   "cell_type": "code",
   "execution_count": 3,
   "id": "b15f2f8e-be86-455b-83cc-ec9bc3851938",
   "metadata": {},
   "outputs": [
    {
     "data": {
      "text/plain": [
       "(300, 2)"
      ]
     },
     "execution_count": 3,
     "metadata": {},
     "output_type": "execute_result"
    }
   ],
   "source": [
    "data.shape"
   ]
  },
  {
   "cell_type": "code",
   "execution_count": 4,
   "id": "4f089510-56f1-462a-91cd-24adf8f1310b",
   "metadata": {},
   "outputs": [
    {
     "data": {
      "text/plain": [
       "array([[ 77.        ,  79.77515201],\n",
       "       [ 21.        ,  23.17727887],\n",
       "       [ 22.        ,  25.60926156],\n",
       "       [ 20.        ,  17.85738813],\n",
       "       [ 36.        ,  41.84986439],\n",
       "       [ 15.        ,   9.80523488],\n",
       "       [ 62.        ,  58.87465933],\n",
       "       [ 95.        ,  97.61793701],\n",
       "       [ 20.        ,  18.39512747],\n",
       "       [  5.        ,   8.74674765],\n",
       "       [  4.        ,   2.81141583],\n",
       "       [ 19.        ,  17.09537241],\n",
       "       [ 96.        ,  95.14907176],\n",
       "       [ 62.        ,  61.38800663],\n",
       "       [ 36.        ,  40.24701716],\n",
       "       [ 15.        ,  14.82248589],\n",
       "       [ 65.        ,  66.95806869],\n",
       "       [ 14.        ,  16.63507984],\n",
       "       [ 87.        ,  90.65513736],\n",
       "       [ 69.        ,  77.22982636],\n",
       "       [ 89.        ,  92.11906278],\n",
       "       [ 51.        ,  46.91387709],\n",
       "       [ 89.        ,  89.82634442],\n",
       "       [ 27.        ,  21.71380347],\n",
       "       [ 97.        ,  97.41206981],\n",
       "       [ 58.        ,  57.01631363],\n",
       "       [ 79.        ,  78.31056542],\n",
       "       [ 21.        ,  19.1315097 ],\n",
       "       [ 93.        ,  93.03483388],\n",
       "       [ 27.        ,  26.59112396],\n",
       "       [ 99.        ,  97.55155344],\n",
       "       [ 31.        ,  31.43524822],\n",
       "       [ 33.        ,  35.12724777],\n",
       "       [ 80.        ,  78.61042432],\n",
       "       [ 28.        ,  33.07112825],\n",
       "       [ 47.        ,  51.69967172],\n",
       "       [ 53.        ,  53.62235225],\n",
       "       [ 69.        ,  69.46306072],\n",
       "       [ 28.        ,  27.42497237],\n",
       "       [ 33.        ,  36.34644189],\n",
       "       [ 91.        ,  95.06140858],\n",
       "       [ 71.        ,  68.16724757],\n",
       "       [ 50.        ,  50.96155532],\n",
       "       [ 76.        ,  78.04237454],\n",
       "       [  4.        ,   5.60766487],\n",
       "       [ 37.        ,  36.11334779],\n",
       "       [ 70.        ,  67.2352155 ],\n",
       "       [ 68.        ,  65.01324035],\n",
       "       [ 40.        ,  38.14753871],\n",
       "       [ 35.        ,  34.31141446],\n",
       "       [ 94.        ,  95.28503937],\n",
       "       [ 88.        ,  87.84749912],\n",
       "       [ 52.        ,  54.08170635],\n",
       "       [ 31.        ,  31.93063515],\n",
       "       [ 59.        ,  59.61247085],\n",
       "       [  0.        ,  -1.04011421],\n",
       "       [ 39.        ,  47.49374765],\n",
       "       [ 64.        ,  62.60089773],\n",
       "       [ 69.        ,  70.9146434 ],\n",
       "       [ 57.        ,  56.14834113],\n",
       "       [ 13.        ,  14.05572877],\n",
       "       [ 72.        ,  68.11367147],\n",
       "       [ 76.        ,  75.59701346],\n",
       "       [ 61.        ,  59.225745  ],\n",
       "       [ 82.        ,  85.45504157],\n",
       "       [ 18.        ,  17.76197116],\n",
       "       [ 41.        ,  38.68888682],\n",
       "       [ 50.        ,  50.96343637],\n",
       "       [ 55.        ,  51.83503872],\n",
       "       [ 13.        ,  17.0761107 ],\n",
       "       [ 46.        ,  46.56141773],\n",
       "       [ 13.        ,  10.34754461],\n",
       "       [ 79.        ,  77.91032969],\n",
       "       [ 53.        ,  50.17008622],\n",
       "       [ 15.        ,  13.25690647],\n",
       "       [ 28.        ,  31.32274932],\n",
       "       [ 81.        ,  73.9308764 ],\n",
       "       [ 69.        ,  74.45114379],\n",
       "       [ 52.        ,  52.01932286],\n",
       "       [ 84.        ,  83.68820499],\n",
       "       [ 68.        ,  70.3698748 ],\n",
       "       [ 27.        ,  23.44479161],\n",
       "       [ 56.        ,  49.83051801],\n",
       "       [ 48.        ,  49.88226593],\n",
       "       [ 40.        ,  41.04525583],\n",
       "       [ 39.        ,  33.37834391],\n",
       "       [ 82.        ,  81.29750133],\n",
       "       [100.        , 105.5918375 ],\n",
       "       [ 59.        ,  56.82457013],\n",
       "       [ 43.        ,  48.67252645],\n",
       "       [ 67.        ,  67.02150613],\n",
       "       [ 38.        ,  38.43076389],\n",
       "       [ 63.        ,  58.61466887],\n",
       "       [ 91.        ,  89.12377509],\n",
       "       [ 60.        ,  60.9105427 ],\n",
       "       [ 14.        ,  13.83959878],\n",
       "       [ 21.        ,  16.89085185],\n",
       "       [ 87.        ,  84.06676818],\n",
       "       [ 73.        ,  70.34969772],\n",
       "       [ 32.        ,  33.38474138],\n",
       "       [  2.        ,  -1.63296825],\n",
       "       [ 82.        ,  88.54475895],\n",
       "       [ 19.        ,  17.44047622],\n",
       "       [ 74.        ,  75.69298554],\n",
       "       [ 42.        ,  41.97607107],\n",
       "       [ 12.        ,  12.59244741],\n",
       "       [  1.        ,   0.27530726],\n",
       "       [ 90.        ,  98.13258005],\n",
       "       [ 89.        ,  87.45721555],\n",
       "       [  0.        ,  -2.34473854],\n",
       "       [ 41.        ,  39.3294153 ],\n",
       "       [ 16.        ,  16.68715211],\n",
       "       [ 94.        ,  96.58888601],\n",
       "       [ 97.        ,  97.70342201],\n",
       "       [ 66.        ,  67.01715955],\n",
       "       [ 24.        ,  25.63476257],\n",
       "       [ 17.        ,  13.41310757],\n",
       "       [ 90.        ,  95.15647284],\n",
       "       [ 13.        ,   9.74416426],\n",
       "       [  0.        ,  -3.46788379],\n",
       "       [ 64.        ,  62.82816355],\n",
       "       [ 96.        ,  97.27405461],\n",
       "       [ 98.        ,  95.58017185],\n",
       "       [ 12.        ,   7.46850184],\n",
       "       [ 41.        ,  45.44599591],\n",
       "       [ 47.        ,  46.69013968],\n",
       "       [ 78.        ,  74.4993599 ],\n",
       "       [ 20.        ,  21.63500655],\n",
       "       [ 89.        ,  91.59548851],\n",
       "       [ 29.        ,  26.49487961],\n",
       "       [ 64.        ,  67.38654703],\n",
       "       [ 75.        ,  74.25362837],\n",
       "       [ 12.        ,  12.07991648],\n",
       "       [ 25.        ,  21.32273728],\n",
       "       [ 28.        ,  29.31770045],\n",
       "       [ 30.        ,  26.48713683],\n",
       "       [ 65.        ,  68.94699774],\n",
       "       [ 59.        ,  59.10598995],\n",
       "       [ 64.        ,  64.37521087],\n",
       "       [ 53.        ,  60.20758349],\n",
       "       [ 71.        ,  70.34329706],\n",
       "       [ 97.        ,  97.1082562 ],\n",
       "       [ 73.        ,  75.7584178 ],\n",
       "       [  9.        ,  10.80462727],\n",
       "       [ 12.        ,  12.11219941],\n",
       "       [ 63.        ,  63.28312382],\n",
       "       [ 99.        ,  98.03017721],\n",
       "       [ 60.        ,  63.19354354],\n",
       "       [ 35.        ,  34.8534823 ],\n",
       "       [  2.        ,  -2.81991397],\n",
       "       [ 60.        ,  59.8313966 ],\n",
       "       [ 32.        ,  29.38505024],\n",
       "       [ 94.        ,  97.00148372],\n",
       "       [ 84.        ,  85.18657275],\n",
       "       [ 63.        ,  61.74063192],\n",
       "       [ 22.        ,  18.84798163],\n",
       "       [ 81.        ,  78.79008525],\n",
       "       [ 93.        ,  95.12400481],\n",
       "       [ 33.        ,  30.48881287],\n",
       "       [  7.        ,  10.41468095],\n",
       "       [ 42.        ,  38.98317436],\n",
       "       [ 46.        ,  46.11021062],\n",
       "       [ 54.        ,  52.45103628],\n",
       "       [ 16.        ,  21.16523945],\n",
       "       [ 49.        ,  52.28620611],\n",
       "       [ 43.        ,  44.18863945],\n",
       "       [ 95.        ,  97.13832018],\n",
       "       [ 66.        ,  67.22008001],\n",
       "       [ 21.        ,  18.98322306],\n",
       "       [ 35.        ,  24.3884599 ],\n",
       "       [ 80.        ,  79.44769523],\n",
       "       [ 37.        ,  40.03504862],\n",
       "       [ 54.        ,  53.32005764],\n",
       "       [ 56.        ,  54.55446979],\n",
       "       [  1.        ,  -2.7611826 ],\n",
       "       [ 32.        ,  37.80182795],\n",
       "       [ 58.        ,  57.48741435],\n",
       "       [ 32.        ,  36.06292994],\n",
       "       [ 46.        ,  49.83538167],\n",
       "       [ 72.        ,  74.68953276],\n",
       "       [ 17.        ,  14.86159401],\n",
       "       [ 97.        , 101.0697879 ],\n",
       "       [ 93.        ,  99.43577876],\n",
       "       [ 91.        ,  91.69240746],\n",
       "       [ 37.        ,  34.12473248],\n",
       "       [  4.        ,   6.07939007],\n",
       "       [ 54.        ,  59.07247174],\n",
       "       [ 51.        ,  56.43046022],\n",
       "       [ 27.        ,  30.49412933],\n",
       "       [ 46.        ,  48.35172635],\n",
       "       [ 92.        ,  89.73153611],\n",
       "       [ 73.        ,  72.86282528],\n",
       "       [ 77.        ,  80.97144285],\n",
       "       [ 91.        ,  91.36566374],\n",
       "       [ 61.        ,  60.07137496],\n",
       "       [ 99.        ,  99.87382707],\n",
       "       [  4.        ,   8.65571417],\n",
       "       [ 72.        ,  69.39858505],\n",
       "       [ 19.        ,  19.38780134],\n",
       "       [ 57.        ,  53.11628433],\n",
       "       [ 78.        ,  78.39683006],\n",
       "       [ 26.        ,  25.75612514],\n",
       "       [ 74.        ,  75.07484683],\n",
       "       [ 90.        ,  92.88772282],\n",
       "       [ 66.        ,  69.45498498],\n",
       "       [ 13.        ,  13.12109842],\n",
       "       [ 40.        ,  48.09843134],\n",
       "       [ 77.        ,  79.3142548 ],\n",
       "       [ 67.        ,  68.48820749],\n",
       "       [ 75.        ,  73.2300846 ],\n",
       "       [ 23.        ,  24.68362712],\n",
       "       [ 45.        ,  41.90368917],\n",
       "       [ 59.        ,  62.22635684],\n",
       "       [ 44.        ,  45.96396877],\n",
       "       [ 23.        ,  23.52647153],\n",
       "       [ 55.        ,  51.80035866],\n",
       "       [ 55.        ,  51.10774273],\n",
       "       [ 95.        ,  95.79747345],\n",
       "       [ 12.        ,   9.24113898],\n",
       "       [  4.        ,   7.64652976],\n",
       "       [  7.        ,   9.28169975],\n",
       "       [100.        , 103.5266162 ],\n",
       "       [ 48.        ,  47.41006725],\n",
       "       [ 42.        ,  42.03835773],\n",
       "       [ 96.        ,  96.11982476],\n",
       "       [ 39.        ,  38.05766408],\n",
       "       [100.        , 105.4503788 ],\n",
       "       [ 87.        ,  88.80306911],\n",
       "       [ 14.        ,  15.49301141],\n",
       "       [ 14.        ,  12.42624606],\n",
       "       [ 37.        ,  40.00709598],\n",
       "       [  5.        ,   5.6340309 ],\n",
       "       [ 88.        ,  87.36938931],\n",
       "       [ 91.        ,  89.73951993],\n",
       "       [ 65.        ,  66.61499643],\n",
       "       [ 74.        ,  72.9138853 ],\n",
       "       [ 56.        ,  57.19103506],\n",
       "       [ 16.        ,  11.21710477],\n",
       "       [  5.        ,   0.67607675],\n",
       "       [ 28.        ,  28.15668543],\n",
       "       [ 92.        ,  95.3958003 ],\n",
       "       [ 46.        ,  52.05490703],\n",
       "       [ 54.        ,  59.70864577],\n",
       "       [ 39.        ,  36.79224762],\n",
       "       [ 44.        ,  37.08457698],\n",
       "       [ 31.        ,  24.18437976],\n",
       "       [ 68.        ,  67.28725332],\n",
       "       [ 86.        ,  82.870594  ],\n",
       "       [ 90.        ,  89.899991  ],\n",
       "       [ 38.        ,  36.94173178],\n",
       "       [ 21.        ,  19.87562242],\n",
       "       [ 95.        ,  90.71481654],\n",
       "       [ 56.        ,  61.09367762],\n",
       "       [ 60.        ,  60.11134958],\n",
       "       [ 65.        ,  64.83296316],\n",
       "       [ 78.        ,  81.40381769],\n",
       "       [ 89.        ,  92.40217686],\n",
       "       [  6.        ,   2.57662538],\n",
       "       [ 67.        ,  63.80768172],\n",
       "       [ 36.        ,  38.67780759],\n",
       "       [ 16.        ,  16.82839701],\n",
       "       [100.        ,  99.78687252],\n",
       "       [ 45.        ,  44.68913433],\n",
       "       [ 73.        ,  71.00377824],\n",
       "       [ 57.        ,  51.57326718],\n",
       "       [ 20.        ,  19.87846479],\n",
       "       [ 76.        ,  79.50341495],\n",
       "       [ 34.        ,  34.58876491],\n",
       "       [ 55.        ,  55.7383467 ],\n",
       "       [ 72.        ,  68.19721905],\n",
       "       [ 55.        ,  55.81628509],\n",
       "       [  8.        ,   9.3914168 ],\n",
       "       [ 56.        ,  56.01448111],\n",
       "       [ 72.        ,  77.9969477 ],\n",
       "       [ 58.        ,  55.37049953],\n",
       "       [  6.        ,  11.89457829],\n",
       "       [ 96.        ,  94.79081712],\n",
       "       [ 23.        ,  25.69041546],\n",
       "       [ 58.        ,  53.52042319],\n",
       "       [ 23.        ,  18.31396758],\n",
       "       [ 19.        ,  21.42637785],\n",
       "       [ 25.        ,  30.41303282],\n",
       "       [ 64.        ,  67.68142149],\n",
       "       [ 21.        ,  17.0854783 ],\n",
       "       [ 59.        ,  60.91792707],\n",
       "       [ 19.        ,  14.99514319],\n",
       "       [ 16.        ,  16.74923937],\n",
       "       [ 42.        ,  41.46923883],\n",
       "       [ 43.        ,  42.84526108],\n",
       "       [ 61.        ,  59.12912974],\n",
       "       [ 92.        ,  91.30863673],\n",
       "       [ 11.        ,   8.67333636],\n",
       "       [ 41.        ,  39.31485292],\n",
       "       [  1.        ,   5.3136862 ],\n",
       "       [  8.        ,   5.40522052],\n",
       "       [ 71.        ,  68.5458879 ],\n",
       "       [ 46.        ,  47.33487629],\n",
       "       [ 55.        ,  54.09063686],\n",
       "       [ 62.        ,  63.29717058],\n",
       "       [ 47.        ,  52.45946688]])"
      ]
     },
     "execution_count": 4,
     "metadata": {},
     "output_type": "execute_result"
    }
   ],
   "source": [
    "data.values"
   ]
  },
  {
   "cell_type": "code",
   "execution_count": 5,
   "id": "7f090de2-d5df-47e6-abae-f3f259d1ab99",
   "metadata": {},
   "outputs": [],
   "source": [
    "x = data.values[:,0]\n",
    "x = x.tolist()\n",
    "y = data.values[:,1]\n",
    "y = y.tolist()"
   ]
  },
  {
   "cell_type": "code",
   "execution_count": 6,
   "id": "91bf8cec-ba4c-4755-9c4b-1d67424a2878",
   "metadata": {},
   "outputs": [],
   "source": [
    "import matplotlib.pyplot as plt"
   ]
  },
  {
   "cell_type": "code",
   "execution_count": 7,
   "id": "9ea7c3a3-0817-4347-9840-1631e0d5357b",
   "metadata": {},
   "outputs": [
    {
     "data": {
      "image/png": "[encoded data removed]",
      "text/plain": [
       "<Figure size 640x480 with 1 Axes>"
      ]
     },
     "metadata": {},
     "output_type": "display_data"
    }
   ],
   "source": [
    "plt.scatter(x,y)\n",
    "plt.show()"
   ]
  },
  {
   "cell_type": "code",
   "execution_count": 8,
   "id": "2b406a40-66ed-4e89-9865-1f6d1f9cf240",
   "metadata": {},
   "outputs": [],
   "source": [
    "from scipy import stats"
   ]
  },
  {
   "cell_type": "code",
   "execution_count": 9,
   "id": "2e81ecd8-56b7-4569-9259-156f168d86c1",
   "metadata": {},
   "outputs": [],
   "source": [
    "slope, intercept, r, p,  stderr = stats.linregress(x,y)"
   ]
  },
  {
   "cell_type": "code",
   "execution_count": 18,
   "id": "485c8a33-7ee3-432b-a7ba-7650f1898fe4",
   "metadata": {},
   "outputs": [
    {
     "data": {
      "text/plain": [
       "1.0143353551195184"
      ]
     },
     "execution_count": 18,
     "metadata": {},
     "output_type": "execute_result"
    }
   ],
   "source": [
    "slope"
   ]
  },
  {
   "cell_type": "code",
   "execution_count": 11,
   "id": "6d4dc076-bfbd-49d6-bb74-3096432c8050",
   "metadata": {},
   "outputs": [],
   "source": [
    "def linear(x):\n",
    "    return slope * x + intercept"
   ]
  },
  {
   "cell_type": "code",
   "execution_count": 12,
   "id": "ab94fd2d-f7ff-44f6-835e-a39e6cbf5272",
   "metadata": {},
   "outputs": [],
   "source": [
    "predicted = list(map(linear,x))"
   ]
  },
  {
   "cell_type": "code",
   "execution_count": 13,
   "id": "1e4da7c8-c0a1-42b1-9adc-55e4eecbb780",
   "metadata": {},
   "outputs": [
    {
     "data": {
      "text/plain": [
       "[<matplotlib.lines.Line2D at 0xffff49c65290>]"
      ]
     },
     "execution_count": 13,
     "metadata": {},
     "output_type": "execute_result"
    },
    {
     "data": {
      "image/png": "[encoded data removed]",
      "text/plain": [
       "<Figure size 640x480 with 1 Axes>"
      ]
     },
     "metadata": {},
     "output_type": "display_data"
    }
   ],
   "source": [
    "plt.scatter(x,y, color='black')\n",
    "plt.plot(x, predicted, color='red')"
   ]
  },
  {
   "cell_type": "code",
   "execution_count": 14,
   "id": "e24cd006-0fa4-4b69-a7fe-0098a24595fc",
   "metadata": {},
   "outputs": [
    {
     "data": {
      "text/plain": [
       "0.9945453037143518"
      ]
     },
     "execution_count": 14,
     "metadata": {},
     "output_type": "execute_result"
    }
   ],
   "source": [
    "r"
   ]
  },
  {
   "cell_type": "code",
   "execution_count": 15,
   "id": "0eca0ec3-d315-4f11-88cb-4444dcf2a436",
   "metadata": {},
   "outputs": [
    {
     "data": {
      "text/plain": [
       "202.4052602502425"
      ]
     },
     "execution_count": 15,
     "metadata": {},
     "output_type": "execute_result"
    }
   ],
   "source": [
    "linear(200)"
   ]
  },
  {
   "cell_type": "code",
   "execution_count": 16,
   "id": "33e9fd14-a536-401a-b790-8e451ca62c4a",
   "metadata": {},
   "outputs": [
    {
     "data": {
      "text/plain": [
       "[101.98606009341015,\n",
       " 202.4052602502425,\n",
       " 305.86746647243336,\n",
       " 308.9104725377919,\n",
       " 310.9391432480309,\n",
       " 405.27233127414615]"
      ]
     },
     "execution_count": 16,
     "metadata": {},
     "output_type": "execute_result"
    }
   ],
   "source": [
    "x_imagine = [101, 200, 302, 305, 307, 400]\n",
    "y_imagine = list(map(linear,x_imagine))\n",
    "y_imagine"
   ]
  },
  {
   "cell_type": "code",
   "execution_count": 17,
   "id": "2ee1aa44-6231-40c0-a4a9-baeca81f6185",
   "metadata": {},
   "outputs": [
    {
     "data": {
      "text/plain": [
       "[<matplotlib.lines.Line2D at 0xffff497d0090>]"
      ]
     },
     "execution_count": 17,
     "metadata": {},
     "output_type": "execute_result"
    },
    {
     "data": {
      "image/png": "[encoded data removed]",
      "text/plain": [
       "<Figure size 640x480 with 1 Axes>"
      ]
     },
     "metadata": {},
     "output_type": "display_data"
    }
   ],
   "source": [
    "plt.plot(x_imagine, y_imagine, color='blue')"
   ]
  },
  {
   "cell_type": "code",
   "execution_count": null,
   "id": "3cee7332-8a2b-4461-a046-d7760bae49ea",
   "metadata": {},
   "outputs": [],
   "source": []
  }
 ],
 "metadata": {
  "kernelspec": {
   "display_name": "Python 3 (ipykernel)",
   "language": "python",
   "name": "python3"
  },
  "language_info": {
   "codemirror_mode": {
    "name": "ipython",
    "version": 3
   },
   "file_extension": ".py",
   "mimetype": "text/x-python",
   "name": "python",
   "nbconvert_exporter": "python",
   "pygments_lexer": "ipython3",
   "version": "3.11.8"
  }
 },
 "nbformat": 4,
 "nbformat_minor": 5
}
