{
 "cells": [
  {
   "cell_type": "markdown",
   "id": "011ab8d6",
   "metadata": {},
   "source": [
    "# [INSERT DATASET NAME] Report\n",
    "[INSERT DATASET DESCRIPTION]"
   ]
  },
  {
   "cell_type": "code",
   "execution_count": null,
   "id": "fb32ccb2",
   "metadata": {},
   "outputs": [],
   "source": [
    "import os\n",
    "from typing import Any, Callable, Dict, List, Optional, Tuple, Union\n",
    "\n",
    "import pandas as pd\n",
    "import plotly.io as pio\n",
    "import plotly.offline as py\n",
    "from edvart.report_sections.bivariate_analysis import show_bivariate_analysis\n",
    "from edvart.report_sections.dataset_overview import show_overview\n",
    "from edvart.report_sections.multivariate_analysis import show_multivariate_analysis\n",
    "from edvart.report_sections.univariate_analysis import show_univariate_analysis\n",
    "\n",
    "\n",
    "pio.renderers.default = 'plotly_mimetype+notebook'\n",
    "py.init_notebook_mode()"
   ]
  },
  {
   "cell_type": "markdown",
   "id": "836ac37a",
   "metadata": {},
   "source": [
    "## Load Data\n",
    "---"
   ]
  },
  {
   "cell_type": "code",
   "execution_count": null,
   "id": "f7290fa6",
   "metadata": {},
   "outputs": [],
   "source": [
    "df = ...  # TODO: Fill in code for loading data"
   ]
  },
  {
   "cell_type": "markdown",
   "id": "d9f2d31c",
   "metadata": {},
   "source": [
    "# Table of Contents\n",
    "---"
   ]
  },
  {
   "cell_type": "markdown",
   "id": "2e46a457",
   "metadata": {},
   "source": [
    " * [Overview](#8f7f8104-b0c6-4966-9ffa-a3a3aa7128e5)\n",
    "\n",
    " * [Univariate Analysis](#13cc4f4c-b30c-4269-a891-789f7bf854c5)\n",
    "\n",
    " * [Bivariate analysis](#2f465382-2dba-475a-abe2-0af4dcc97489)\n",
    "\n",
    " * [Multivariate analysis](#b07bbde3-27ad-45c1-b7b4-19eba01adebb)\n"
   ]
  },
  {
   "cell_type": "markdown",
   "id": "f5ea7392",
   "metadata": {},
   "source": [
    "# Overview<a id='8f7f8104-b0c6-4966-9ffa-a3a3aa7128e5'>\n",
    "---"
   ]
  },
  {
   "cell_type": "code",
   "execution_count": null,
   "id": "5cd1b8e1",
   "metadata": {},
   "outputs": [],
   "source": [
    "show_overview(df=df)"
   ]
  },
  {
   "cell_type": "markdown",
   "id": "a324e169",
   "metadata": {},
   "source": [
    "# Univariate Analysis<a id='13cc4f4c-b30c-4269-a891-789f7bf854c5'>\n",
    "---"
   ]
  },
  {
   "cell_type": "code",
   "execution_count": null,
   "id": "4ba95b2f",
   "metadata": {},
   "outputs": [],
   "source": [
    "show_univariate_analysis(df=df)"
   ]
  },
  {
   "cell_type": "markdown",
   "id": "d8001a82",
   "metadata": {},
   "source": [
    "# Bivariate analysis<a id='2f465382-2dba-475a-abe2-0af4dcc97489'>\n",
    "---"
   ]
  },
  {
   "cell_type": "code",
   "execution_count": null,
   "id": "3e026079",
   "metadata": {},
   "outputs": [],
   "source": [
    "show_bivariate_analysis(df=df)"
   ]
  },
  {
   "cell_type": "markdown",
   "id": "b67b603d",
   "metadata": {},
   "source": [
    "# Multivariate analysis<a id='b07bbde3-27ad-45c1-b7b4-19eba01adebb'>\n",
    "---"
   ]
  },
  {
   "cell_type": "code",
   "execution_count": null,
   "id": "441bbe0c",
   "metadata": {},
   "outputs": [],
   "source": [
    "show_multivariate_analysis(df=df)"
   ]
  }
 ],
 "metadata": {},
 "nbformat": 4,
 "nbformat_minor": 5
}
