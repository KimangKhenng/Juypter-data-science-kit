{
 "cells": [
  {
   "cell_type": "markdown",
   "id": "006c5437",
   "metadata": {},
   "source": [
    "# [INSERT DATASET NAME] Report\n",
    "[INSERT DATASET DESCRIPTION]"
   ]
  },
  {
   "cell_type": "code",
   "execution_count": null,
   "id": "c3e50f06",
   "metadata": {},
   "outputs": [],
   "source": [
    "import os\n",
    "from typing import Any, Callable, Dict, List, Optional, Tuple, Union\n",
    "\n",
    "import pandas as pd\n",
    "import plotly.io as pio\n",
    "import plotly.offline as py\n",
    "from edvart.report_sections.bivariate_analysis import show_bivariate_analysis\n",
    "from edvart.report_sections.dataset_overview import show_overview\n",
    "from edvart.report_sections.multivariate_analysis import show_multivariate_analysis\n",
    "from edvart.report_sections.univariate_analysis import show_univariate_analysis\n",
    "\n",
    "\n",
    "pio.renderers.default = 'plotly_mimetype+notebook'\n",
    "py.init_notebook_mode()"
   ]
  },
  {
   "cell_type": "markdown",
   "id": "e73c9977",
   "metadata": {},
   "source": [
    "## Load Data\n",
    "---"
   ]
  },
  {
   "cell_type": "code",
   "execution_count": null,
   "id": "f151d498",
   "metadata": {},
   "outputs": [],
   "source": [
    "df = ...  # TODO: Fill in code for loading data"
   ]
  },
  {
   "cell_type": "markdown",
   "id": "c3fab64b",
   "metadata": {},
   "source": [
    "# Table of Contents\n",
    "---"
   ]
  },
  {
   "cell_type": "markdown",
   "id": "a50b4a96",
   "metadata": {},
   "source": [
    " * [Overview](#5e9226bb-5204-48f0-856d-ab9719c96b8b)\n",
    "\n",
    " * [Univariate Analysis](#e6a0b5fd-3371-453e-9123-ef1d06c66ca8)\n",
    "\n",
    " * [Bivariate analysis](#7f195aad-e094-4a35-aed1-9b13b2b000f8)\n",
    "\n",
    " * [Multivariate analysis](#664804b0-f92e-41d1-9b46-d2312f388ce0)\n"
   ]
  },
  {
   "cell_type": "markdown",
   "id": "29baa67b",
   "metadata": {},
   "source": [
    "# Overview<a id='5e9226bb-5204-48f0-856d-ab9719c96b8b'>\n",
    "---"
   ]
  },
  {
   "cell_type": "code",
   "execution_count": null,
   "id": "5f843aba",
   "metadata": {},
   "outputs": [],
   "source": [
    "show_overview(df=df)"
   ]
  },
  {
   "cell_type": "markdown",
   "id": "949f5a8a",
   "metadata": {},
   "source": [
    "# Univariate Analysis<a id='e6a0b5fd-3371-453e-9123-ef1d06c66ca8'>\n",
    "---"
   ]
  },
  {
   "cell_type": "code",
   "execution_count": null,
   "id": "4611a498",
   "metadata": {},
   "outputs": [],
   "source": [
    "show_univariate_analysis(df=df)"
   ]
  },
  {
   "cell_type": "markdown",
   "id": "3df9fbd4",
   "metadata": {},
   "source": [
    "# Bivariate analysis<a id='7f195aad-e094-4a35-aed1-9b13b2b000f8'>\n",
    "---"
   ]
  },
  {
   "cell_type": "code",
   "execution_count": null,
   "id": "6db17743",
   "metadata": {},
   "outputs": [],
   "source": [
    "show_bivariate_analysis(df=df)"
   ]
  },
  {
   "cell_type": "markdown",
   "id": "52906600",
   "metadata": {},
   "source": [
    "# Multivariate analysis<a id='664804b0-f92e-41d1-9b46-d2312f388ce0'>\n",
    "---"
   ]
  },
  {
   "cell_type": "code",
   "execution_count": null,
   "id": "dc439513",
   "metadata": {},
   "outputs": [],
   "source": [
    "show_multivariate_analysis(df=df)"
   ]
  }
 ],
 "metadata": {},
 "nbformat": 4,
 "nbformat_minor": 5
}
