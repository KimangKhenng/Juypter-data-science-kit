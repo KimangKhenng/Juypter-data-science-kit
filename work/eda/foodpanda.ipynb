{
 "cells": [
  {
   "cell_type": "code",
   "execution_count": 1,
   "metadata": {
    "id": "h30Az56INZZB"
   },
   "outputs": [],
   "source": [
    "import numpy as np\n",
    "import pandas as pd"
   ]
  },
  {
   "cell_type": "code",
   "execution_count": 2,
   "metadata": {
    "colab": {
     "base_uri": "https://localhost:8080/",
     "height": 504
    },
    "id": "-ASDmZgYQEq9",
    "outputId": "fcc51105-2278-49f5-c620-9aece657691b"
   },
   "outputs": [
    {
     "data": {
      "text/html": [
       "<div>\n",
       "<style scoped>\n",
       "    .dataframe tbody tr th:only-of-type {\n",
       "        vertical-align: middle;\n",
       "    }\n",
       "\n",
       "    .dataframe tbody tr th {\n",
       "        vertical-align: top;\n",
       "    }\n",
       "\n",
       "    .dataframe thead th {\n",
       "        text-align: right;\n",
       "    }\n",
       "</style>\n",
       "<table border=\"1\" class=\"dataframe\">\n",
       "  <thead>\n",
       "    <tr style=\"text-align: right;\">\n",
       "      <th></th>\n",
       "      <th>StoreId</th>\n",
       "      <th>uuid</th>\n",
       "      <th>createdAt</th>\n",
       "      <th>updatedAt</th>\n",
       "      <th>text</th>\n",
       "      <th>isAnonymous</th>\n",
       "      <th>reviewerId</th>\n",
       "      <th>replies</th>\n",
       "      <th>likeCount</th>\n",
       "      <th>isLiked</th>\n",
       "      <th>overall</th>\n",
       "      <th>restaurant_food</th>\n",
       "      <th>rider</th>\n",
       "    </tr>\n",
       "  </thead>\n",
       "  <tbody>\n",
       "    <tr>\n",
       "      <th>14642</th>\n",
       "      <td>e008</td>\n",
       "      <td>ffd8a71a-4ff3-49b9-896a-84da2a7f8ac6</td>\n",
       "      <td>2023-12-11T05:14:20Z</td>\n",
       "      <td>2023-12-11T05:14:20Z</td>\n",
       "      <td>nice food taste so good</td>\n",
       "      <td>False</td>\n",
       "      <td>kh32v0q3</td>\n",
       "      <td>[]</td>\n",
       "      <td>0</td>\n",
       "      <td>False</td>\n",
       "      <td>5</td>\n",
       "      <td>5</td>\n",
       "      <td>5.0</td>\n",
       "    </tr>\n",
       "    <tr>\n",
       "      <th>14643</th>\n",
       "      <td>humb</td>\n",
       "      <td>ffda0e86-2f3f-4294-b6ac-710b21572216</td>\n",
       "      <td>2023-07-06T13:38:14Z</td>\n",
       "      <td>2023-07-06T13:38:14Z</td>\n",
       "      <td>Good</td>\n",
       "      <td>False</td>\n",
       "      <td>khysb89w</td>\n",
       "      <td>[]</td>\n",
       "      <td>0</td>\n",
       "      <td>False</td>\n",
       "      <td>5</td>\n",
       "      <td>5</td>\n",
       "      <td>5.0</td>\n",
       "    </tr>\n",
       "    <tr>\n",
       "      <th>14644</th>\n",
       "      <td>ooc6</td>\n",
       "      <td>ffe667d7-2b7d-4d41-bd69-b7183aa997fa</td>\n",
       "      <td>2023-04-23T06:12:24Z</td>\n",
       "      <td>2023-04-23T06:12:24Z</td>\n",
       "      <td>Very good</td>\n",
       "      <td>False</td>\n",
       "      <td>kh3nvwo2</td>\n",
       "      <td>[]</td>\n",
       "      <td>0</td>\n",
       "      <td>False</td>\n",
       "      <td>5</td>\n",
       "      <td>5</td>\n",
       "      <td>5.0</td>\n",
       "    </tr>\n",
       "    <tr>\n",
       "      <th>14645</th>\n",
       "      <td>l75q</td>\n",
       "      <td>ffebfe42-76e6-4f27-b00c-18c933c41309</td>\n",
       "      <td>2023-09-11T06:50:05Z</td>\n",
       "      <td>2023-09-11T06:50:05Z</td>\n",
       "      <td>Delicious</td>\n",
       "      <td>False</td>\n",
       "      <td>khfkqxwf</td>\n",
       "      <td>[]</td>\n",
       "      <td>1</td>\n",
       "      <td>False</td>\n",
       "      <td>5</td>\n",
       "      <td>5</td>\n",
       "      <td>5.0</td>\n",
       "    </tr>\n",
       "    <tr>\n",
       "      <th>14646</th>\n",
       "      <td>gbac</td>\n",
       "      <td>fff187d3-cd38-4864-ba3b-564cb058b21c</td>\n",
       "      <td>2024-02-17T07:24:01Z</td>\n",
       "      <td>2024-02-17T07:24:01Z</td>\n",
       "      <td>I bouht two pieces but they only give 1 bag of...</td>\n",
       "      <td>False</td>\n",
       "      <td>khvoo5hf</td>\n",
       "      <td>[]</td>\n",
       "      <td>0</td>\n",
       "      <td>False</td>\n",
       "      <td>3</td>\n",
       "      <td>3</td>\n",
       "      <td>5.0</td>\n",
       "    </tr>\n",
       "  </tbody>\n",
       "</table>\n",
       "</div>"
      ],
      "text/plain": [
       "      StoreId                                  uuid             createdAt  \\\n",
       "14642    e008  ffd8a71a-4ff3-49b9-896a-84da2a7f8ac6  2023-12-11T05:14:20Z   \n",
       "14643    humb  ffda0e86-2f3f-4294-b6ac-710b21572216  2023-07-06T13:38:14Z   \n",
       "14644    ooc6  ffe667d7-2b7d-4d41-bd69-b7183aa997fa  2023-04-23T06:12:24Z   \n",
       "14645    l75q  ffebfe42-76e6-4f27-b00c-18c933c41309  2023-09-11T06:50:05Z   \n",
       "14646    gbac  fff187d3-cd38-4864-ba3b-564cb058b21c  2024-02-17T07:24:01Z   \n",
       "\n",
       "                  updatedAt  \\\n",
       "14642  2023-12-11T05:14:20Z   \n",
       "14643  2023-07-06T13:38:14Z   \n",
       "14644  2023-04-23T06:12:24Z   \n",
       "14645  2023-09-11T06:50:05Z   \n",
       "14646  2024-02-17T07:24:01Z   \n",
       "\n",
       "                                                    text  isAnonymous  \\\n",
       "14642                            nice food taste so good        False   \n",
       "14643                                              Good         False   \n",
       "14644                                          Very good        False   \n",
       "14645                                         Delicious         False   \n",
       "14646  I bouht two pieces but they only give 1 bag of...        False   \n",
       "\n",
       "      reviewerId replies  likeCount  isLiked  overall  restaurant_food  rider  \n",
       "14642   kh32v0q3      []          0    False        5                5    5.0  \n",
       "14643   khysb89w      []          0    False        5                5    5.0  \n",
       "14644   kh3nvwo2      []          0    False        5                5    5.0  \n",
       "14645   khfkqxwf      []          1    False        5                5    5.0  \n",
       "14646   khvoo5hf      []          0    False        3                3    5.0  "
      ]
     },
     "execution_count": 2,
     "metadata": {},
     "output_type": "execute_result"
    }
   ],
   "source": [
    "netflix = pd.read_csv(\"kh_phnom_penh_reviews.csv\")\n",
    "netflix.tail()"
   ]
  },
  {
   "cell_type": "code",
   "execution_count": 3,
   "metadata": {
    "colab": {
     "base_uri": "https://localhost:8080/"
    },
    "id": "J02qLhTzRykb",
    "outputId": "01689bc3-e3db-461c-c5c5-f8196a1d2219"
   },
   "outputs": [
    {
     "data": {
      "text/plain": [
       "(14647, 13)"
      ]
     },
     "execution_count": 3,
     "metadata": {},
     "output_type": "execute_result"
    }
   ],
   "source": [
    "netflix.shape"
   ]
  },
  {
   "cell_type": "code",
   "execution_count": 4,
   "metadata": {
    "colab": {
     "base_uri": "https://localhost:8080/"
    },
    "id": "1kWCKPkrSBnP",
    "outputId": "8a2c46ac-05c6-4a19-da5d-4e52a1e2a1b1"
   },
   "outputs": [
    {
     "name": "stdout",
     "output_type": "stream",
     "text": [
      "<class 'pandas.core.frame.DataFrame'>\n",
      "RangeIndex: 14647 entries, 0 to 14646\n",
      "Data columns (total 13 columns):\n",
      " #   Column           Non-Null Count  Dtype  \n",
      "---  ------           --------------  -----  \n",
      " 0   StoreId          14647 non-null  object \n",
      " 1   uuid             14647 non-null  object \n",
      " 2   createdAt        14647 non-null  object \n",
      " 3   updatedAt        14647 non-null  object \n",
      " 4   text             14647 non-null  object \n",
      " 5   isAnonymous      14647 non-null  bool   \n",
      " 6   reviewerId       14647 non-null  object \n",
      " 7   replies          14647 non-null  object \n",
      " 8   likeCount        14647 non-null  int64  \n",
      " 9   isLiked          14647 non-null  bool   \n",
      " 10  overall          14647 non-null  int64  \n",
      " 11  restaurant_food  14647 non-null  int64  \n",
      " 12  rider            8495 non-null   float64\n",
      "dtypes: bool(2), float64(1), int64(3), object(7)\n",
      "memory usage: 1.3+ MB\n"
     ]
    }
   ],
   "source": [
    "netflix.info()"
   ]
  },
  {
   "cell_type": "code",
   "execution_count": 5,
   "metadata": {
    "colab": {
     "base_uri": "https://localhost:8080/",
     "height": 300
    },
    "id": "WPzLe0e6SQhj",
    "outputId": "10a353dd-3048-416c-bea6-4149f7cb0028"
   },
   "outputs": [
    {
     "data": {
      "text/html": [
       "<div>\n",
       "<style scoped>\n",
       "    .dataframe tbody tr th:only-of-type {\n",
       "        vertical-align: middle;\n",
       "    }\n",
       "\n",
       "    .dataframe tbody tr th {\n",
       "        vertical-align: top;\n",
       "    }\n",
       "\n",
       "    .dataframe thead th {\n",
       "        text-align: right;\n",
       "    }\n",
       "</style>\n",
       "<table border=\"1\" class=\"dataframe\">\n",
       "  <thead>\n",
       "    <tr style=\"text-align: right;\">\n",
       "      <th></th>\n",
       "      <th>likeCount</th>\n",
       "      <th>overall</th>\n",
       "      <th>restaurant_food</th>\n",
       "      <th>rider</th>\n",
       "    </tr>\n",
       "  </thead>\n",
       "  <tbody>\n",
       "    <tr>\n",
       "      <th>count</th>\n",
       "      <td>14647.000000</td>\n",
       "      <td>14647.000000</td>\n",
       "      <td>14647.000000</td>\n",
       "      <td>8495.000000</td>\n",
       "    </tr>\n",
       "    <tr>\n",
       "      <th>mean</th>\n",
       "      <td>0.104936</td>\n",
       "      <td>3.136752</td>\n",
       "      <td>3.136752</td>\n",
       "      <td>4.433549</td>\n",
       "    </tr>\n",
       "    <tr>\n",
       "      <th>std</th>\n",
       "      <td>0.397805</td>\n",
       "      <td>1.751359</td>\n",
       "      <td>1.751359</td>\n",
       "      <td>1.203668</td>\n",
       "    </tr>\n",
       "    <tr>\n",
       "      <th>min</th>\n",
       "      <td>0.000000</td>\n",
       "      <td>1.000000</td>\n",
       "      <td>1.000000</td>\n",
       "      <td>1.000000</td>\n",
       "    </tr>\n",
       "    <tr>\n",
       "      <th>25%</th>\n",
       "      <td>0.000000</td>\n",
       "      <td>1.000000</td>\n",
       "      <td>1.000000</td>\n",
       "      <td>5.000000</td>\n",
       "    </tr>\n",
       "    <tr>\n",
       "      <th>50%</th>\n",
       "      <td>0.000000</td>\n",
       "      <td>3.000000</td>\n",
       "      <td>3.000000</td>\n",
       "      <td>5.000000</td>\n",
       "    </tr>\n",
       "    <tr>\n",
       "      <th>75%</th>\n",
       "      <td>0.000000</td>\n",
       "      <td>5.000000</td>\n",
       "      <td>5.000000</td>\n",
       "      <td>5.000000</td>\n",
       "    </tr>\n",
       "    <tr>\n",
       "      <th>max</th>\n",
       "      <td>13.000000</td>\n",
       "      <td>5.000000</td>\n",
       "      <td>5.000000</td>\n",
       "      <td>5.000000</td>\n",
       "    </tr>\n",
       "  </tbody>\n",
       "</table>\n",
       "</div>"
      ],
      "text/plain": [
       "          likeCount       overall  restaurant_food        rider\n",
       "count  14647.000000  14647.000000     14647.000000  8495.000000\n",
       "mean       0.104936      3.136752         3.136752     4.433549\n",
       "std        0.397805      1.751359         1.751359     1.203668\n",
       "min        0.000000      1.000000         1.000000     1.000000\n",
       "25%        0.000000      1.000000         1.000000     5.000000\n",
       "50%        0.000000      3.000000         3.000000     5.000000\n",
       "75%        0.000000      5.000000         5.000000     5.000000\n",
       "max       13.000000      5.000000         5.000000     5.000000"
      ]
     },
     "execution_count": 5,
     "metadata": {},
     "output_type": "execute_result"
    }
   ],
   "source": [
    "netflix.describe()"
   ]
  },
  {
   "cell_type": "code",
   "execution_count": 6,
   "metadata": {
    "colab": {
     "base_uri": "https://localhost:8080/"
    },
    "id": "kflU2o5pSe1E",
    "outputId": "b6caed03-ba9e-4e69-fc8b-f82f45244114"
   },
   "outputs": [
    {
     "data": {
      "text/plain": [
       "['StoreId',\n",
       " 'uuid',\n",
       " 'createdAt',\n",
       " 'updatedAt',\n",
       " 'text',\n",
       " 'isAnonymous',\n",
       " 'reviewerId',\n",
       " 'replies',\n",
       " 'likeCount',\n",
       " 'isLiked',\n",
       " 'overall',\n",
       " 'restaurant_food',\n",
       " 'rider']"
      ]
     },
     "execution_count": 6,
     "metadata": {},
     "output_type": "execute_result"
    }
   ],
   "source": [
    "netflix.columns.tolist()"
   ]
  },
  {
   "cell_type": "code",
   "execution_count": null,
   "metadata": {},
   "outputs": [],
   "source": []
  },
  {
   "cell_type": "code",
   "execution_count": null,
   "metadata": {},
   "outputs": [],
   "source": []
  }
 ],
 "metadata": {
  "colab": {
   "provenance": []
  },
  "kernelspec": {
   "display_name": "Python 3 (ipykernel)",
   "language": "python",
   "name": "python3"
  },
  "language_info": {
   "codemirror_mode": {
    "name": "ipython",
    "version": 3
   },
   "file_extension": ".py",
   "mimetype": "text/x-python",
   "name": "python",
   "nbconvert_exporter": "python",
   "pygments_lexer": "ipython3",
   "version": "3.11.8"
  }
 },
 "nbformat": 4,
 "nbformat_minor": 4
}
